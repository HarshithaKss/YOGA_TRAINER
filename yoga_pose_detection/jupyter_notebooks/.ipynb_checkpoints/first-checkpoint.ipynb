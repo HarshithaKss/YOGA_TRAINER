{
 "cells": [
  {
   "cell_type": "markdown",
   "id": "301ff20b-b10e-4037-bc7c-46ff6f2efa2e",
   "metadata": {},
   "source": [
    "0. INSTALL DEPENDENCIES"
   ]
  },
  {
   "cell_type": "code",
   "execution_count": 1,
   "id": "9081d133-f77f-433d-8c0a-4927500e36ce",
   "metadata": {},
   "outputs": [
    {
     "name": "stdout",
     "output_type": "stream",
     "text": [
      "Collecting mediapipe\n",
      "  Downloading mediapipe-0.10.21-cp310-cp310-win_amd64.whl (51.0 MB)\n",
      "     ---------------------------------------- 51.0/51.0 MB 1.1 MB/s eta 0:00:00\n",
      "Collecting opencv-python\n",
      "  Downloading opencv_python-4.12.0.88-cp37-abi3-win_amd64.whl (39.0 MB)\n",
      "     ---------------------------------------- 39.0/39.0 MB 1.2 MB/s eta 0:00:00\n",
      "Collecting matplotlib\n",
      "  Downloading matplotlib-3.10.3-cp310-cp310-win_amd64.whl (8.1 MB)\n",
      "     ---------------------------------------- 8.1/8.1 MB 371.3 kB/s eta 0:00:00\n",
      "Collecting flatbuffers>=2.0\n",
      "  Downloading flatbuffers-25.2.10-py2.py3-none-any.whl (30 kB)\n",
      "Collecting jaxlib\n",
      "  Downloading jaxlib-0.6.2-cp310-cp310-win_amd64.whl (57.9 MB)\n",
      "     ---------------------------------------- 57.9/57.9 MB 1.1 MB/s eta 0:00:00\n",
      "Collecting attrs>=19.1.0\n",
      "  Downloading attrs-25.3.0-py3-none-any.whl (63 kB)\n",
      "     ---------------------------------------- 63.8/63.8 kB 1.1 MB/s eta 0:00:00\n",
      "Collecting opencv-contrib-python\n",
      "  Downloading opencv_contrib_python-4.12.0.88-cp37-abi3-win_amd64.whl (45.3 MB)\n",
      "     ---------------------------------------- 45.3/45.3 MB 1.2 MB/s eta 0:00:00\n",
      "Collecting sentencepiece\n",
      "  Downloading sentencepiece-0.2.0-cp310-cp310-win_amd64.whl (991 kB)\n",
      "     -------------------------------------- 991.5/991.5 kB 1.2 MB/s eta 0:00:00\n",
      "Collecting protobuf<5,>=4.25.3\n",
      "  Downloading protobuf-4.25.8-cp310-abi3-win_amd64.whl (413 kB)\n",
      "     -------------------------------------- 413.7/413.7 kB 1.2 MB/s eta 0:00:00\n",
      "Collecting absl-py\n",
      "  Downloading absl_py-2.3.1-py3-none-any.whl (135 kB)\n",
      "     -------------------------------------- 135.8/135.8 kB 1.3 MB/s eta 0:00:00\n",
      "Collecting sounddevice>=0.4.4\n",
      "  Downloading sounddevice-0.5.2-py3-none-win_amd64.whl (363 kB)\n",
      "     -------------------------------------- 363.8/363.8 kB 1.2 MB/s eta 0:00:00\n",
      "Collecting numpy<2\n",
      "  Downloading numpy-1.26.4-cp310-cp310-win_amd64.whl (15.8 MB)\n",
      "     ---------------------------------------- 15.8/15.8 MB 1.2 MB/s eta 0:00:00\n",
      "Collecting jax\n",
      "  Downloading jax-0.6.2-py3-none-any.whl (2.7 MB)\n",
      "     ---------------------------------------- 2.7/2.7 MB 1.2 MB/s eta 0:00:00\n",
      "Collecting opencv-python\n",
      "  Downloading opencv_python-4.11.0.86-cp37-abi3-win_amd64.whl (39.5 MB)\n",
      "     ---------------------------------------- 39.5/39.5 MB 1.0 MB/s eta 0:00:00\n",
      "Collecting CFFI>=1.0\n",
      "  Downloading cffi-1.17.1-cp310-cp310-win_amd64.whl (181 kB)\n",
      "     ------------------------------------ 181.3/181.3 kB 781.1 kB/s eta 0:00:00\n",
      "Collecting scipy>=1.12\n",
      "  Downloading scipy-1.15.3-cp310-cp310-win_amd64.whl (41.3 MB)\n",
      "     ---------------------------------------- 41.3/41.3 MB 1.2 MB/s eta 0:00:00\n",
      "Collecting opt_einsum\n",
      "  Downloading opt_einsum-3.4.0-py3-none-any.whl (71 kB)\n",
      "     ---------------------------------------- 71.9/71.9 kB 1.3 MB/s eta 0:00:00\n",
      "Collecting ml_dtypes>=0.5.0\n",
      "  Downloading ml_dtypes-0.5.3-cp310-cp310-win_amd64.whl (206 kB)\n",
      "     -------------------------------------- 206.3/206.3 kB 1.3 MB/s eta 0:00:00\n",
      "Collecting fonttools>=4.22.0\n",
      "  Downloading fonttools-4.59.0-cp310-cp310-win_amd64.whl (2.3 MB)\n",
      "     ---------------------------------------- 2.3/2.3 MB 1.2 MB/s eta 0:00:00\n",
      "Collecting contourpy>=1.0.1\n",
      "  Downloading contourpy-1.3.2-cp310-cp310-win_amd64.whl (221 kB)\n",
      "     -------------------------------------- 221.2/221.2 kB 1.4 MB/s eta 0:00:00\n",
      "Collecting python-dateutil>=2.7\n",
      "  Downloading python_dateutil-2.9.0.post0-py2.py3-none-any.whl (229 kB)\n",
      "     -------------------------------------- 229.9/229.9 kB 1.2 MB/s eta 0:00:00\n",
      "Collecting kiwisolver>=1.3.1\n",
      "  Downloading kiwisolver-1.4.8-cp310-cp310-win_amd64.whl (71 kB)\n",
      "     -------------------------------------- 71.9/71.9 kB 978.5 kB/s eta 0:00:00\n",
      "Collecting pyparsing>=2.3.1\n",
      "  Downloading pyparsing-3.2.3-py3-none-any.whl (111 kB)\n",
      "     -------------------------------------- 111.1/111.1 kB 1.3 MB/s eta 0:00:00\n",
      "Collecting cycler>=0.10\n",
      "  Downloading cycler-0.12.1-py3-none-any.whl (8.3 kB)\n",
      "Collecting packaging>=20.0\n",
      "  Downloading packaging-25.0-py3-none-any.whl (66 kB)\n",
      "     -------------------------------------- 66.5/66.5 kB 906.9 kB/s eta 0:00:00\n",
      "Collecting pillow>=8\n",
      "  Downloading pillow-11.3.0-cp310-cp310-win_amd64.whl (7.0 MB)\n",
      "     ---------------------------------------- 7.0/7.0 MB 1.3 MB/s eta 0:00:00\n",
      "Collecting opencv-contrib-python\n",
      "  Downloading opencv_contrib_python-4.11.0.86-cp37-abi3-win_amd64.whl (46.2 MB)\n",
      "     ---------------------------------------- 46.2/46.2 MB 1.3 MB/s eta 0:00:00\n",
      "Collecting pycparser\n",
      "  Downloading pycparser-2.22-py3-none-any.whl (117 kB)\n",
      "     -------------------------------------- 117.6/117.6 kB 1.2 MB/s eta 0:00:00\n",
      "Collecting six>=1.5\n",
      "  Downloading six-1.17.0-py2.py3-none-any.whl (11 kB)\n",
      "Installing collected packages: sentencepiece, flatbuffers, six, pyparsing, pycparser, protobuf, pillow, packaging, opt_einsum, numpy, kiwisolver, fonttools, cycler, attrs, absl-py, scipy, python-dateutil, opencv-python, opencv-contrib-python, ml_dtypes, contourpy, CFFI, sounddevice, matplotlib, jaxlib, jax, mediapipe\n",
      "Successfully installed CFFI-1.17.1 absl-py-2.3.1 attrs-25.3.0 contourpy-1.3.2 cycler-0.12.1 flatbuffers-25.2.10 fonttools-4.59.0 jax-0.6.2 jaxlib-0.6.2 kiwisolver-1.4.8 matplotlib-3.10.3 mediapipe-0.10.21 ml_dtypes-0.5.3 numpy-1.26.4 opencv-contrib-python-4.11.0.86 opencv-python-4.11.0.86 opt_einsum-3.4.0 packaging-25.0 pillow-11.3.0 protobuf-4.25.8 pycparser-2.22 pyparsing-3.2.3 python-dateutil-2.9.0.post0 scipy-1.15.3 sentencepiece-0.2.0 six-1.17.0 sounddevice-0.5.2\n"
     ]
    },
    {
     "name": "stderr",
     "output_type": "stream",
     "text": [
      "\n",
      "[notice] A new release of pip available: 22.3.1 -> 25.1.1\n",
      "[notice] To update, run: python.exe -m pip install --upgrade pip\n"
     ]
    }
   ],
   "source": [
    " !pip install mediapipe opencv-python"
   ]
  },
  {
   "cell_type": "code",
   "execution_count": 3,
   "id": "ddc8bd4f-c57c-4f89-a8d0-bbacebdf34d8",
   "metadata": {},
   "outputs": [
    {
     "name": "stdout",
     "output_type": "stream",
     "text": [
      "Requirement already satisfied: pip in c:\\users\\harshitha\\appdata\\local\\programs\\python\\python310\\lib\\site-packages (22.3.1)\n",
      "Collecting pip\n",
      "  Using cached pip-25.1.1-py3-none-any.whl (1.8 MB)\n",
      "Installing collected packages: pip\n",
      "  Attempting uninstall: pip\n",
      "    Found existing installation: pip 22.3.1\n",
      "    Uninstalling pip-22.3.1:\n",
      "      Successfully uninstalled pip-22.3.1\n",
      "Successfully installed pip-25.1.1\n"
     ]
    }
   ],
   "source": [
    "!python.exe -m pip install --upgrade pip"
   ]
  },
  {
   "cell_type": "code",
   "execution_count": null,
   "id": "95d5a75a-8ff9-4fb2-a437-34254f584b06",
   "metadata": {},
   "outputs": [],
   "source": [
    "import math\n",
    "import cv2\n",
    "import numpy as np\n",
    "from time import time\n",
    "import mediapipe as mp\n",
    "impo"
   ]
  },
  {
   "cell_type": "code",
   "execution_count": null,
   "id": "9241a94c-c1b1-493b-b0b6-a9719560e792",
   "metadata": {},
   "outputs": [],
   "source": []
  },
  {
   "cell_type": "markdown",
   "id": "fdf99a15-ef9e-4ba4-865e-82959ea749e9",
   "metadata": {},
   "source": [
    "1. Make Detections"
   ]
  },
  {
   "cell_type": "markdown",
   "id": "d8c845eb-ca93-4ac9-8185-3fd046cc845c",
   "metadata": {},
   "source": [
    "  2.Determining Joins"
   ]
  },
  {
   "cell_type": "markdown",
   "id": "f2c44433-d9f5-4c0a-a1ad-b3d01ef1af18",
   "metadata": {},
   "source": [
    "3. Calculate Angles"
   ]
  },
  {
   "cell_type": "markdown",
   "id": "96f97847-efa4-405f-995a-e1fcb8ce9b1e",
   "metadata": {},
   "source": [
    "4. Curl Counter"
   ]
  },
  {
   "cell_type": "code",
   "execution_count": null,
   "id": "2d1433f5-8aa7-497a-8c49-bfd03dc1eaf3",
   "metadata": {},
   "outputs": [],
   "source": []
  }
 ],
 "metadata": {
  "kernelspec": {
   "display_name": "Python (MediaPipe)",
   "language": "python",
   "name": "mediapipe-kernel"
  },
  "language_info": {
   "codemirror_mode": {
    "name": "ipython",
    "version": 3
   },
   "file_extension": ".py",
   "mimetype": "text/x-python",
   "name": "python",
   "nbconvert_exporter": "python",
   "pygments_lexer": "ipython3",
   "version": "3.10.9"
  }
 },
 "nbformat": 4,
 "nbformat_minor": 5
}
